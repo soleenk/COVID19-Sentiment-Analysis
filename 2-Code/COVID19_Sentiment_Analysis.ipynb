{
 "cells": [
  {
   "cell_type": "markdown",
   "id": "861597b5",
   "metadata": {},
   "source": [
    "### Twitter Sentiment Analysis of Covid-19\n",
    "Coronavirus disease (COVID-19) is an infectious disease caused by a newly discovered coronavirus.\n",
    "There are worldwide curfews, quarantines and lockdown established to prevent further spread of the virus.\n",
    "The basic agenda for this project is to use the #tags and other twitter components to analyse the behaviour of the indian citizens towards the overall situation of the lockdown.\n",
    "Timeline of lockdown :\n",
    "Phase 1 : 25 March – 14 April\n",
    "Phase 2 : 15 April – 3 May\n",
    "Phase 3 : 4 May – 17 May\n",
    "Phase 4 : 18 May – 31 May\n",
    "Phase 5 : 1 June – 30 June\n",
    "\n",
    "We will be analyzing the tweets on 16th April,2020 i.e a day after Phase-2 was declared."
   ]
  },
  {
   "cell_type": "markdown",
   "id": "32e68293",
   "metadata": {},
   "source": [
    "### Importing Packages"
   ]
  },
  {
   "cell_type": "code",
   "execution_count": 4,
   "id": "345d4a7a",
   "metadata": {},
   "outputs": [],
   "source": [
    "import numpy as np \n",
    "import pandas as pd\n",
    "import matplotlib.pyplot as plt\n",
    "import seaborn as sns\n",
    "\n",
    "from wordcloud import WordCloud,STOPWORDS\n",
    "stopwords = set(STOPWORDS)\n",
    "\n",
    "from textblob import TextBlob\n",
    "\n",
    "import re\n",
    "\n",
    "from collections import Counter\n",
    "\n",
    "import warnings\n",
    "warnings.filterwarnings(\"ignore\")\n",
    "\n",
    "import os\n",
    "for dirname, _, filenames in os.walk('/kaggle/input'):\n",
    "    for filename in filenames:\n",
    "        print(os.path.join(dirname, filename))"
   ]
  },
  {
   "cell_type": "code",
   "execution_count": 2,
   "id": "ee475a11",
   "metadata": {},
   "outputs": [
    {
     "name": "stdout",
     "output_type": "stream",
     "text": [
      "Collecting wordcloud\n",
      "  Downloading wordcloud-1.9.1.1-cp38-cp38-win_amd64.whl (153 kB)\n",
      "     -------------------------------------- 153.1/153.1 kB 1.3 MB/s eta 0:00:00\n",
      "Requirement already satisfied: numpy>=1.6.1 in c:\\users\\soleen.alkhaffaf\\anaconda3\\lib\\site-packages (from wordcloud) (1.23.5)\n",
      "Requirement already satisfied: pillow in c:\\users\\soleen.alkhaffaf\\anaconda3\\lib\\site-packages (from wordcloud) (8.2.0)\n",
      "Requirement already satisfied: matplotlib in c:\\users\\soleen.alkhaffaf\\anaconda3\\lib\\site-packages (from wordcloud) (3.3.4)\n",
      "Requirement already satisfied: cycler>=0.10 in c:\\users\\soleen.alkhaffaf\\anaconda3\\lib\\site-packages (from matplotlib->wordcloud) (0.10.0)\n",
      "Requirement already satisfied: kiwisolver>=1.0.1 in c:\\users\\soleen.alkhaffaf\\anaconda3\\lib\\site-packages (from matplotlib->wordcloud) (1.3.1)\n",
      "Requirement already satisfied: pyparsing!=2.0.4,!=2.1.2,!=2.1.6,>=2.0.3 in c:\\users\\soleen.alkhaffaf\\anaconda3\\lib\\site-packages (from matplotlib->wordcloud) (2.4.7)\n",
      "Requirement already satisfied: python-dateutil>=2.1 in c:\\users\\soleen.alkhaffaf\\anaconda3\\lib\\site-packages (from matplotlib->wordcloud) (2.8.2)\n",
      "Requirement already satisfied: six in c:\\users\\soleen.alkhaffaf\\anaconda3\\lib\\site-packages (from cycler>=0.10->matplotlib->wordcloud) (1.15.0)\n",
      "Installing collected packages: wordcloud\n",
      "Successfully installed wordcloud-1.9.1.1\n",
      "Note: you may need to restart the kernel to use updated packages.\n"
     ]
    }
   ],
   "source": [
    "pip install wordcloud\n"
   ]
  },
  {
   "cell_type": "code",
   "execution_count": 3,
   "id": "bf801d93",
   "metadata": {},
   "outputs": [],
   "source": [
    "import wordcloud\n"
   ]
  },
  {
   "cell_type": "markdown",
   "id": "7854d5be",
   "metadata": {},
   "source": [
    "### Reading Data"
   ]
  },
  {
   "cell_type": "code",
   "execution_count": 6,
   "id": "6b8225d0",
   "metadata": {
    "scrolled": true
   },
   "outputs": [
    {
     "data": {
      "text/html": [
       "<div>\n",
       "<style scoped>\n",
       "    .dataframe tbody tr th:only-of-type {\n",
       "        vertical-align: middle;\n",
       "    }\n",
       "\n",
       "    .dataframe tbody tr th {\n",
       "        vertical-align: top;\n",
       "    }\n",
       "\n",
       "    .dataframe thead th {\n",
       "        text-align: right;\n",
       "    }\n",
       "</style>\n",
       "<table border=\"1\" class=\"dataframe\">\n",
       "  <thead>\n",
       "    <tr style=\"text-align: right;\">\n",
       "      <th></th>\n",
       "      <th>status_id</th>\n",
       "      <th>user_id</th>\n",
       "      <th>created_at</th>\n",
       "      <th>screen_name</th>\n",
       "      <th>text</th>\n",
       "      <th>source</th>\n",
       "      <th>reply_to_status_id</th>\n",
       "      <th>reply_to_user_id</th>\n",
       "      <th>reply_to_screen_name</th>\n",
       "      <th>is_quote</th>\n",
       "      <th>...</th>\n",
       "      <th>retweet_count</th>\n",
       "      <th>country_code</th>\n",
       "      <th>place_full_name</th>\n",
       "      <th>place_type</th>\n",
       "      <th>followers_count</th>\n",
       "      <th>friends_count</th>\n",
       "      <th>account_lang</th>\n",
       "      <th>account_created_at</th>\n",
       "      <th>verified</th>\n",
       "      <th>lang</th>\n",
       "    </tr>\n",
       "  </thead>\n",
       "  <tbody>\n",
       "    <tr>\n",
       "      <th>0</th>\n",
       "      <td>1250574628726214658</td>\n",
       "      <td>817072420947247104</td>\n",
       "      <td>2020-04-16T00:00:00Z</td>\n",
       "      <td>Tu_IMSS_Coah</td>\n",
       "      <td>Para complementar la higiene de tus manos, el ...</td>\n",
       "      <td>TweetDeck</td>\n",
       "      <td>NaN</td>\n",
       "      <td>NaN</td>\n",
       "      <td>NaN</td>\n",
       "      <td>False</td>\n",
       "      <td>...</td>\n",
       "      <td>2</td>\n",
       "      <td>NaN</td>\n",
       "      <td>NaN</td>\n",
       "      <td>NaN</td>\n",
       "      <td>1671</td>\n",
       "      <td>169</td>\n",
       "      <td>NaN</td>\n",
       "      <td>2017-01-05T18:17:00Z</td>\n",
       "      <td>False</td>\n",
       "      <td>es</td>\n",
       "    </tr>\n",
       "    <tr>\n",
       "      <th>1</th>\n",
       "      <td>1250574627127975938</td>\n",
       "      <td>44728980</td>\n",
       "      <td>2020-04-16T00:00:00Z</td>\n",
       "      <td>ANCALERTS</td>\n",
       "      <td>PWDs from Tahanang Walang Hagdan get aid amid ...</td>\n",
       "      <td>TweetDeck</td>\n",
       "      <td>NaN</td>\n",
       "      <td>NaN</td>\n",
       "      <td>NaN</td>\n",
       "      <td>False</td>\n",
       "      <td>...</td>\n",
       "      <td>1</td>\n",
       "      <td>NaN</td>\n",
       "      <td>NaN</td>\n",
       "      <td>NaN</td>\n",
       "      <td>4915788</td>\n",
       "      <td>775</td>\n",
       "      <td>NaN</td>\n",
       "      <td>2009-06-04T21:26:24Z</td>\n",
       "      <td>True</td>\n",
       "      <td>tl</td>\n",
       "    </tr>\n",
       "    <tr>\n",
       "      <th>2</th>\n",
       "      <td>1250574628671467521</td>\n",
       "      <td>1235017593649418241</td>\n",
       "      <td>2020-04-16T00:00:00Z</td>\n",
       "      <td>julycio</td>\n",
       "      <td>#France ได้รับความทุกข์ทรมานจาก # ชุดการแยกตัว...</td>\n",
       "      <td>Twitter for Advertisers</td>\n",
       "      <td>NaN</td>\n",
       "      <td>NaN</td>\n",
       "      <td>NaN</td>\n",
       "      <td>False</td>\n",
       "      <td>...</td>\n",
       "      <td>0</td>\n",
       "      <td>NaN</td>\n",
       "      <td>NaN</td>\n",
       "      <td>NaN</td>\n",
       "      <td>43</td>\n",
       "      <td>266</td>\n",
       "      <td>NaN</td>\n",
       "      <td>2020-03-04T01:43:19Z</td>\n",
       "      <td>False</td>\n",
       "      <td>th</td>\n",
       "    </tr>\n",
       "    <tr>\n",
       "      <th>3</th>\n",
       "      <td>1250574628575010816</td>\n",
       "      <td>92174767</td>\n",
       "      <td>2020-04-16T00:00:00Z</td>\n",
       "      <td>DZMMTeleRadyo</td>\n",
       "      <td>Target ng Department of Health na magkaroon ng...</td>\n",
       "      <td>TweetDeck</td>\n",
       "      <td>NaN</td>\n",
       "      <td>NaN</td>\n",
       "      <td>NaN</td>\n",
       "      <td>False</td>\n",
       "      <td>...</td>\n",
       "      <td>3</td>\n",
       "      <td>NaN</td>\n",
       "      <td>NaN</td>\n",
       "      <td>NaN</td>\n",
       "      <td>1372231</td>\n",
       "      <td>161</td>\n",
       "      <td>NaN</td>\n",
       "      <td>2009-11-24T02:03:16Z</td>\n",
       "      <td>True</td>\n",
       "      <td>tl</td>\n",
       "    </tr>\n",
       "    <tr>\n",
       "      <th>4</th>\n",
       "      <td>1250574628201717760</td>\n",
       "      <td>1042498579909107712</td>\n",
       "      <td>2020-04-16T00:00:00Z</td>\n",
       "      <td>ContraReplicaMX</td>\n",
       "      <td>La @SSalud_mx lanzó una nueva convocatoria esp...</td>\n",
       "      <td>TweetDeck</td>\n",
       "      <td>NaN</td>\n",
       "      <td>NaN</td>\n",
       "      <td>NaN</td>\n",
       "      <td>False</td>\n",
       "      <td>...</td>\n",
       "      <td>0</td>\n",
       "      <td>NaN</td>\n",
       "      <td>NaN</td>\n",
       "      <td>NaN</td>\n",
       "      <td>13474</td>\n",
       "      <td>2557</td>\n",
       "      <td>NaN</td>\n",
       "      <td>2018-09-19T19:40:04Z</td>\n",
       "      <td>False</td>\n",
       "      <td>es</td>\n",
       "    </tr>\n",
       "  </tbody>\n",
       "</table>\n",
       "<p>5 rows × 22 columns</p>\n",
       "</div>"
      ],
      "text/plain": [
       "             status_id              user_id            created_at  \\\n",
       "0  1250574628726214658   817072420947247104  2020-04-16T00:00:00Z   \n",
       "1  1250574627127975938             44728980  2020-04-16T00:00:00Z   \n",
       "2  1250574628671467521  1235017593649418241  2020-04-16T00:00:00Z   \n",
       "3  1250574628575010816             92174767  2020-04-16T00:00:00Z   \n",
       "4  1250574628201717760  1042498579909107712  2020-04-16T00:00:00Z   \n",
       "\n",
       "       screen_name                                               text  \\\n",
       "0     Tu_IMSS_Coah  Para complementar la higiene de tus manos, el ...   \n",
       "1        ANCALERTS  PWDs from Tahanang Walang Hagdan get aid amid ...   \n",
       "2          julycio  #France ได้รับความทุกข์ทรมานจาก # ชุดการแยกตัว...   \n",
       "3    DZMMTeleRadyo  Target ng Department of Health na magkaroon ng...   \n",
       "4  ContraReplicaMX  La @SSalud_mx lanzó una nueva convocatoria esp...   \n",
       "\n",
       "                    source  reply_to_status_id  reply_to_user_id  \\\n",
       "0                TweetDeck                 NaN               NaN   \n",
       "1                TweetDeck                 NaN               NaN   \n",
       "2  Twitter for Advertisers                 NaN               NaN   \n",
       "3                TweetDeck                 NaN               NaN   \n",
       "4                TweetDeck                 NaN               NaN   \n",
       "\n",
       "  reply_to_screen_name  is_quote  ...  retweet_count  country_code  \\\n",
       "0                  NaN     False  ...              2           NaN   \n",
       "1                  NaN     False  ...              1           NaN   \n",
       "2                  NaN     False  ...              0           NaN   \n",
       "3                  NaN     False  ...              3           NaN   \n",
       "4                  NaN     False  ...              0           NaN   \n",
       "\n",
       "   place_full_name place_type followers_count friends_count  account_lang  \\\n",
       "0              NaN        NaN            1671           169           NaN   \n",
       "1              NaN        NaN         4915788           775           NaN   \n",
       "2              NaN        NaN              43           266           NaN   \n",
       "3              NaN        NaN         1372231           161           NaN   \n",
       "4              NaN        NaN           13474          2557           NaN   \n",
       "\n",
       "     account_created_at  verified lang  \n",
       "0  2017-01-05T18:17:00Z     False   es  \n",
       "1  2009-06-04T21:26:24Z      True   tl  \n",
       "2  2020-03-04T01:43:19Z     False   th  \n",
       "3  2009-11-24T02:03:16Z      True   tl  \n",
       "4  2018-09-19T19:40:04Z     False   es  \n",
       "\n",
       "[5 rows x 22 columns]"
      ]
     },
     "execution_count": 6,
     "metadata": {},
     "output_type": "execute_result"
    }
   ],
   "source": [
    "# Reading data\n",
    "df=pd.read_csv('2020-04-16 Coronavirus Tweets.CSV')\n",
    "df.head()"
   ]
  },
  {
   "cell_type": "code",
   "execution_count": 7,
   "id": "72dd4ce1",
   "metadata": {},
   "outputs": [
    {
     "data": {
      "text/plain": [
       "Index(['status_id', 'user_id', 'created_at', 'screen_name', 'text', 'source',\n",
       "       'reply_to_status_id', 'reply_to_user_id', 'reply_to_screen_name',\n",
       "       'is_quote', 'is_retweet', 'favourites_count', 'retweet_count',\n",
       "       'country_code', 'place_full_name', 'place_type', 'followers_count',\n",
       "       'friends_count', 'account_lang', 'account_created_at', 'verified',\n",
       "       'lang'],\n",
       "      dtype='object')"
      ]
     },
     "execution_count": 7,
     "metadata": {},
     "output_type": "execute_result"
    }
   ],
   "source": [
    "# display columns\n",
    "df.columns"
   ]
  },
  {
   "cell_type": "markdown",
   "id": "ee07ab07",
   "metadata": {},
   "source": [
    "### Cleaning Data"
   ]
  },
  {
   "cell_type": "code",
   "execution_count": 8,
   "id": "e9b6520d",
   "metadata": {},
   "outputs": [
    {
     "data": {
      "text/html": [
       "<div>\n",
       "<style scoped>\n",
       "    .dataframe tbody tr th:only-of-type {\n",
       "        vertical-align: middle;\n",
       "    }\n",
       "\n",
       "    .dataframe tbody tr th {\n",
       "        vertical-align: top;\n",
       "    }\n",
       "\n",
       "    .dataframe thead th {\n",
       "        text-align: right;\n",
       "    }\n",
       "</style>\n",
       "<table border=\"1\" class=\"dataframe\">\n",
       "  <thead>\n",
       "    <tr style=\"text-align: right;\">\n",
       "      <th></th>\n",
       "      <th>created_at</th>\n",
       "      <th>text</th>\n",
       "      <th>favourites_count</th>\n",
       "      <th>retweet_count</th>\n",
       "      <th>country_code</th>\n",
       "      <th>lang</th>\n",
       "    </tr>\n",
       "  </thead>\n",
       "  <tbody>\n",
       "    <tr>\n",
       "      <th>0</th>\n",
       "      <td>2020-04-16T00:00:00Z</td>\n",
       "      <td>Para complementar la higiene de tus manos, el ...</td>\n",
       "      <td>1828</td>\n",
       "      <td>2</td>\n",
       "      <td>NaN</td>\n",
       "      <td>es</td>\n",
       "    </tr>\n",
       "    <tr>\n",
       "      <th>1</th>\n",
       "      <td>2020-04-16T00:00:00Z</td>\n",
       "      <td>PWDs from Tahanang Walang Hagdan get aid amid ...</td>\n",
       "      <td>5449</td>\n",
       "      <td>1</td>\n",
       "      <td>NaN</td>\n",
       "      <td>tl</td>\n",
       "    </tr>\n",
       "    <tr>\n",
       "      <th>2</th>\n",
       "      <td>2020-04-16T00:00:00Z</td>\n",
       "      <td>#France ได้รับความทุกข์ทรมานจาก # ชุดการแยกตัว...</td>\n",
       "      <td>27</td>\n",
       "      <td>0</td>\n",
       "      <td>NaN</td>\n",
       "      <td>th</td>\n",
       "    </tr>\n",
       "    <tr>\n",
       "      <th>3</th>\n",
       "      <td>2020-04-16T00:00:00Z</td>\n",
       "      <td>Target ng Department of Health na magkaroon ng...</td>\n",
       "      <td>578</td>\n",
       "      <td>3</td>\n",
       "      <td>NaN</td>\n",
       "      <td>tl</td>\n",
       "    </tr>\n",
       "    <tr>\n",
       "      <th>4</th>\n",
       "      <td>2020-04-16T00:00:00Z</td>\n",
       "      <td>La @SSalud_mx lanzó una nueva convocatoria esp...</td>\n",
       "      <td>5743</td>\n",
       "      <td>0</td>\n",
       "      <td>NaN</td>\n",
       "      <td>es</td>\n",
       "    </tr>\n",
       "  </tbody>\n",
       "</table>\n",
       "</div>"
      ],
      "text/plain": [
       "             created_at                                               text  \\\n",
       "0  2020-04-16T00:00:00Z  Para complementar la higiene de tus manos, el ...   \n",
       "1  2020-04-16T00:00:00Z  PWDs from Tahanang Walang Hagdan get aid amid ...   \n",
       "2  2020-04-16T00:00:00Z  #France ได้รับความทุกข์ทรมานจาก # ชุดการแยกตัว...   \n",
       "3  2020-04-16T00:00:00Z  Target ng Department of Health na magkaroon ng...   \n",
       "4  2020-04-16T00:00:00Z  La @SSalud_mx lanzó una nueva convocatoria esp...   \n",
       "\n",
       "   favourites_count  retweet_count country_code lang  \n",
       "0              1828              2          NaN   es  \n",
       "1              5449              1          NaN   tl  \n",
       "2                27              0          NaN   th  \n",
       "3               578              3          NaN   tl  \n",
       "4              5743              0          NaN   es  "
      ]
     },
     "execution_count": 8,
     "metadata": {},
     "output_type": "execute_result"
    }
   ],
   "source": [
    "# dropping columns\n",
    "tweet = df.copy()\n",
    "tweet.drop(['status_id','user_id','screen_name','source','reply_to_status_id','reply_to_user_id','is_retweet','place_full_name','place_type','reply_to_screen_name','is_quote','followers_count','friends_count','account_lang','account_created_at','verified'],axis=1, inplace = True)\n",
    "tweet.head()"
   ]
  },
  {
   "cell_type": "code",
   "execution_count": 9,
   "id": "32581fc0",
   "metadata": {},
   "outputs": [
    {
     "data": {
      "text/html": [
       "<div>\n",
       "<style scoped>\n",
       "    .dataframe tbody tr th:only-of-type {\n",
       "        vertical-align: middle;\n",
       "    }\n",
       "\n",
       "    .dataframe tbody tr th {\n",
       "        vertical-align: top;\n",
       "    }\n",
       "\n",
       "    .dataframe thead th {\n",
       "        text-align: right;\n",
       "    }\n",
       "</style>\n",
       "<table border=\"1\" class=\"dataframe\">\n",
       "  <thead>\n",
       "    <tr style=\"text-align: right;\">\n",
       "      <th></th>\n",
       "      <th>created_at</th>\n",
       "      <th>text</th>\n",
       "      <th>favourites_count</th>\n",
       "      <th>retweet_count</th>\n",
       "    </tr>\n",
       "  </thead>\n",
       "  <tbody>\n",
       "    <tr>\n",
       "      <th>0</th>\n",
       "      <td>2020-04-16T00:22:06Z</td>\n",
       "      <td>Interesting Read. A Four point strategy beyond...</td>\n",
       "      <td>841</td>\n",
       "      <td>0</td>\n",
       "    </tr>\n",
       "    <tr>\n",
       "      <th>1</th>\n",
       "      <td>2020-04-16T00:31:50Z</td>\n",
       "      <td>@Imamofpeace China sneezed - world freezed.\\n\\...</td>\n",
       "      <td>664</td>\n",
       "      <td>0</td>\n",
       "    </tr>\n",
       "    <tr>\n",
       "      <th>2</th>\n",
       "      <td>2020-04-16T00:33:14Z</td>\n",
       "      <td>The poor in India are starving, the public is ...</td>\n",
       "      <td>5134</td>\n",
       "      <td>1</td>\n",
       "    </tr>\n",
       "    <tr>\n",
       "      <th>3</th>\n",
       "      <td>2020-04-16T00:40:40Z</td>\n",
       "      <td>We are not stuck at home we are safe at home.....</td>\n",
       "      <td>230</td>\n",
       "      <td>0</td>\n",
       "    </tr>\n",
       "    <tr>\n",
       "      <th>4</th>\n",
       "      <td>2020-04-16T00:50:40Z</td>\n",
       "      <td>I wish to contribute a little amount to our lo...</td>\n",
       "      <td>5</td>\n",
       "      <td>0</td>\n",
       "    </tr>\n",
       "  </tbody>\n",
       "</table>\n",
       "</div>"
      ],
      "text/plain": [
       "             created_at                                               text  \\\n",
       "0  2020-04-16T00:22:06Z  Interesting Read. A Four point strategy beyond...   \n",
       "1  2020-04-16T00:31:50Z  @Imamofpeace China sneezed - world freezed.\\n\\...   \n",
       "2  2020-04-16T00:33:14Z  The poor in India are starving, the public is ...   \n",
       "3  2020-04-16T00:40:40Z  We are not stuck at home we are safe at home.....   \n",
       "4  2020-04-16T00:50:40Z  I wish to contribute a little amount to our lo...   \n",
       "\n",
       "   favourites_count  retweet_count  \n",
       "0               841              0  \n",
       "1               664              0  \n",
       "2              5134              1  \n",
       "3               230              0  \n",
       "4                 5              0  "
      ]
     },
     "execution_count": 9,
     "metadata": {},
     "output_type": "execute_result"
    }
   ],
   "source": [
    "# filtering data with 'country_code = IN' and 'language = en'\n",
    "tweet =tweet[(tweet.country_code == \"IN\") & (tweet.lang == \"en\")].reset_index(drop = True)\n",
    "tweet.drop(['country_code','lang'],axis=1,inplace=True)\n",
    "tweet.head()"
   ]
  },
  {
   "cell_type": "code",
   "execution_count": 10,
   "id": "ec88bd7f",
   "metadata": {},
   "outputs": [],
   "source": [
    "# created_at column\n",
    "tweet[\"created_at\"] = tweet[\"created_at\"].apply(lambda i:(int(i.split(\"T\")[1].split(\":\")[0])+int(i.split(\"T\")[1].split(\":\")[1])/60))"
   ]
  },
  {
   "cell_type": "code",
   "execution_count": 11,
   "id": "750951cc",
   "metadata": {},
   "outputs": [
    {
     "data": {
      "text/plain": [
       "(1661, 4)"
      ]
     },
     "execution_count": 11,
     "metadata": {},
     "output_type": "execute_result"
    }
   ],
   "source": [
    "# shape\n",
    "tweet.shape"
   ]
  },
  {
   "cell_type": "code",
   "execution_count": 12,
   "id": "af6735f1",
   "metadata": {},
   "outputs": [
    {
     "data": {
      "text/plain": [
       "created_at          0\n",
       "text                0\n",
       "favourites_count    0\n",
       "retweet_count       0\n",
       "dtype: int64"
      ]
     },
     "execution_count": 12,
     "metadata": {},
     "output_type": "execute_result"
    }
   ],
   "source": [
    "# check missing values\n",
    "tweet.isna().sum()"
   ]
  },
  {
   "cell_type": "code",
   "execution_count": 13,
   "id": "fecb483f",
   "metadata": {},
   "outputs": [
    {
     "data": {
      "text/plain": [
       "0    interesting read a four point strategy beyond ...\n",
       "1    china sneezed world freezed covid 19 chinesevi...\n",
       "2    the poor in india are starving the public is t...\n",
       "3    we are not stuck at home we are safe at home s...\n",
       "4    i wish to contribute a little amount to our lo...\n",
       "Name: text, dtype: object"
      ]
     },
     "execution_count": 13,
     "metadata": {},
     "output_type": "execute_result"
    }
   ],
   "source": [
    "# data preprocessing\n",
    "for i in range(tweet.shape[0]) :\n",
    "    tweet['text'][i] = ' '.join(re.sub(\"(@[A-Za-z0-9]+)|([^0-9A-Za-z \\t])|(\\w+:\\/\\/\\S+)|(#[A-Za-z0-9]+)\", \" \", tweet['text'][i]).split()).lower()\n",
    "tweet['text'].head()"
   ]
  },
  {
   "cell_type": "markdown",
   "id": "b1c1678f",
   "metadata": {},
   "source": [
    "### Top 5 most retweeted tweets:"
   ]
  },
  {
   "cell_type": "code",
   "execution_count": 14,
   "id": "b34c22fc",
   "metadata": {},
   "outputs": [
    {
     "name": "stdout",
     "output_type": "stream",
     "text": [
      "0 ] for the sake of the country please spell out the strategy as there is no vaccine or medicine for covid 19 \n",
      "\n",
      "1 ] i do not want any credit i just want the people of the country to be free from covid 19 whether the government believes it or not we will continue to play the role of positive opposition and keep giving our suggestions ji rahulspeaksforindia \n",
      "\n",
      "2 ] the economic slowdown in the country is growing at a very rapid pace after covid19 the employment situation is deteriorating bjp government should help the poorest 20 of the people under the nyay scheme ji rahulspeaksforindia \n",
      "\n",
      "3 ] we are in a limbo right now i write my views on the covid 19 and it s impact on the economy in the business standard article read more covid 19 \n",
      "\n",
      "4 ] lockdown is in no way a solution to the covid19 lockdown is like a pause button when we come out of the lockdown the virus is going to start its work again congress leader rahul gandhi rahulspeaksforindia \n",
      "\n"
     ]
    }
   ],
   "source": [
    "fav = tweet[['favourites_count','text']].sort_values('favourites_count',ascending = False)[:5].reset_index()\n",
    "for i in range(5):\n",
    "    print(i,']', fav['text'][i],'\\n')"
   ]
  },
  {
   "cell_type": "markdown",
   "id": "08cc2149",
   "metadata": {},
   "source": [
    "### Top 5 most favourited tweets:"
   ]
  },
  {
   "cell_type": "code",
   "execution_count": 15,
   "id": "0e07b0b0",
   "metadata": {},
   "outputs": [
    {
     "name": "stdout",
     "output_type": "stream",
     "text": [
      "0 ] a 25 member team from the kottayam medical college who were a part of the team treating 5 patients including a 93 year old headed to kasargod for strengthening the functioning of the state of the art covid hospital covid19 covidkerala keralafightscovid \n",
      "\n",
      "1 ] because hunger cannot wait join us in our mission to protect vulnerable groups donate at beatthevirus covid19 coronarelief \n",
      "\n",
      "2 ] after one month of fighting againt covid19 he has came with strategic \n",
      "\n",
      "3 ] ajayks sant shri asharamji bapu established yuwa seva sangh mahila utthan mandal these organizations provide food or basic essentials to poor peoples at this critical time of coronaviruspandemic \n",
      "\n",
      "4 ] sober press conference by on covid19 did not get into a blame game mode and refrained from blaming modi in person and ensured that pc does not turn into us vs them match \n",
      "\n"
     ]
    }
   ],
   "source": [
    "retweet = tweet[['retweet_count','text']].sort_values('retweet_count',ascending = False)[:5].reset_index()\n",
    "for i in range(5):\n",
    "    print(i,']', retweet['text'][i],'\\n')"
   ]
  },
  {
   "cell_type": "markdown",
   "id": "6ebad9b4",
   "metadata": {},
   "source": [
    "### Number of Tweets/Hour"
   ]
  },
  {
   "cell_type": "code",
   "execution_count": 16,
   "id": "6d3c0508",
   "metadata": {},
   "outputs": [
    {
     "data": {
      "text/plain": [
       "Text(0.5, 1.0, 'No. of Tweets per Hour')"
      ]
     },
     "execution_count": 16,
     "metadata": {},
     "output_type": "execute_result"
    },
    {
     "data": {
      "image/png": "[encoded data removed]",
      "text/plain": [
       "<Figure size 720x432 with 1 Axes>"
      ]
     },
     "metadata": {
      "needs_background": "light"
     },
     "output_type": "display_data"
    }
   ],
   "source": [
    "plt.figure(1, figsize=(10,6))\n",
    "plt.hist(tweet[\"created_at\"],bins = 24);\n",
    "plt.xlabel('Hours',size = 15)\n",
    "plt.ylabel('No. of Tweets',size = 15)\n",
    "plt.title('No. of Tweets per Hour',size = 15)"
   ]
  },
  {
   "cell_type": "markdown",
   "id": "9988011d",
   "metadata": {},
   "source": [
    "### Word Cloud :"
   ]
  },
  {
   "cell_type": "code",
   "execution_count": 22,
   "id": "0992b8c7",
   "metadata": {},
   "outputs": [],
   "source": [
    "from wordcloud import WordCloud\n",
    "import matplotlib.pyplot as plt\n",
    "\n",
    "def show_wordcloud(data, title=None):\n",
    "    wordcloud = WordCloud(background_color='black', stopwords=stopwords, max_words=200,\n",
    "                          max_font_size=40, font_path='arial.ttf').generate(str(data))\n",
    "  \n",
    "    fig = plt.figure(1, figsize=(15, 15))\n",
    "    plt.axis('off')\n",
    "    plt.title(title, size=25)\n",
    "    plt.imshow(wordcloud, interpolation='bilinear')\n",
    "    plt.show()\n"
   ]
  },
  {
   "cell_type": "code",
   "execution_count": 24,
   "id": "8e492aa2",
   "metadata": {},
   "outputs": [
    {
     "data": {
      "text/plain": [
       "{'a',\n",
       " 'about',\n",
       " 'above',\n",
       " 'after',\n",
       " 'again',\n",
       " 'against',\n",
       " 'all',\n",
       " 'also',\n",
       " 'am',\n",
       " 'an',\n",
       " 'and',\n",
       " 'any',\n",
       " 'are',\n",
       " \"aren't\",\n",
       " 'as',\n",
       " 'at',\n",
       " 'be',\n",
       " 'because',\n",
       " 'been',\n",
       " 'before',\n",
       " 'being',\n",
       " 'below',\n",
       " 'between',\n",
       " 'both',\n",
       " 'but',\n",
       " 'by',\n",
       " 'can',\n",
       " \"can't\",\n",
       " 'cannot',\n",
       " 'com',\n",
       " 'could',\n",
       " \"couldn't\",\n",
       " 'did',\n",
       " \"didn't\",\n",
       " 'do',\n",
       " 'does',\n",
       " \"doesn't\",\n",
       " 'doing',\n",
       " \"don't\",\n",
       " 'down',\n",
       " 'during',\n",
       " 'each',\n",
       " 'else',\n",
       " 'ever',\n",
       " 'few',\n",
       " 'for',\n",
       " 'from',\n",
       " 'further',\n",
       " 'get',\n",
       " 'had',\n",
       " \"hadn't\",\n",
       " 'has',\n",
       " \"hasn't\",\n",
       " 'have',\n",
       " \"haven't\",\n",
       " 'having',\n",
       " 'he',\n",
       " \"he'd\",\n",
       " \"he'll\",\n",
       " \"he's\",\n",
       " 'hence',\n",
       " 'her',\n",
       " 'here',\n",
       " \"here's\",\n",
       " 'hers',\n",
       " 'herself',\n",
       " 'him',\n",
       " 'himself',\n",
       " 'his',\n",
       " 'how',\n",
       " \"how's\",\n",
       " 'however',\n",
       " 'http',\n",
       " 'i',\n",
       " \"i'd\",\n",
       " \"i'll\",\n",
       " \"i'm\",\n",
       " \"i've\",\n",
       " 'if',\n",
       " 'in',\n",
       " 'into',\n",
       " 'is',\n",
       " \"isn't\",\n",
       " 'it',\n",
       " \"it's\",\n",
       " 'its',\n",
       " 'itself',\n",
       " 'just',\n",
       " 'k',\n",
       " \"let's\",\n",
       " 'like',\n",
       " 'me',\n",
       " 'more',\n",
       " 'most',\n",
       " \"mustn't\",\n",
       " 'my',\n",
       " 'myself',\n",
       " 'no',\n",
       " 'nor',\n",
       " 'not',\n",
       " 'of',\n",
       " 'off',\n",
       " 'on',\n",
       " 'once',\n",
       " 'only',\n",
       " 'or',\n",
       " 'other',\n",
       " 'otherwise',\n",
       " 'ought',\n",
       " 'our',\n",
       " 'ours',\n",
       " 'ourselves',\n",
       " 'out',\n",
       " 'over',\n",
       " 'own',\n",
       " 'r',\n",
       " 'same',\n",
       " 'shall',\n",
       " \"shan't\",\n",
       " 'she',\n",
       " \"she'd\",\n",
       " \"she'll\",\n",
       " \"she's\",\n",
       " 'should',\n",
       " \"shouldn't\",\n",
       " 'since',\n",
       " 'so',\n",
       " 'some',\n",
       " 'such',\n",
       " 'than',\n",
       " 'that',\n",
       " \"that's\",\n",
       " 'the',\n",
       " 'their',\n",
       " 'theirs',\n",
       " 'them',\n",
       " 'themselves',\n",
       " 'then',\n",
       " 'there',\n",
       " \"there's\",\n",
       " 'therefore',\n",
       " 'these',\n",
       " 'they',\n",
       " \"they'd\",\n",
       " \"they'll\",\n",
       " \"they're\",\n",
       " \"they've\",\n",
       " 'this',\n",
       " 'those',\n",
       " 'through',\n",
       " 'to',\n",
       " 'too',\n",
       " 'under',\n",
       " 'until',\n",
       " 'up',\n",
       " 'very',\n",
       " 'was',\n",
       " \"wasn't\",\n",
       " 'we',\n",
       " \"we'd\",\n",
       " \"we'll\",\n",
       " \"we're\",\n",
       " \"we've\",\n",
       " 'were',\n",
       " \"weren't\",\n",
       " 'what',\n",
       " \"what's\",\n",
       " 'when',\n",
       " \"when's\",\n",
       " 'where',\n",
       " \"where's\",\n",
       " 'which',\n",
       " 'while',\n",
       " 'who',\n",
       " \"who's\",\n",
       " 'whom',\n",
       " 'why',\n",
       " \"why's\",\n",
       " 'with',\n",
       " \"won't\",\n",
       " 'would',\n",
       " \"wouldn't\",\n",
       " 'www',\n",
       " 'you',\n",
       " \"you'd\",\n",
       " \"you'll\",\n",
       " \"you're\",\n",
       " \"you've\",\n",
       " 'your',\n",
       " 'yours',\n",
       " 'yourself',\n",
       " 'yourselves'}"
      ]
     },
     "execution_count": 24,
     "metadata": {},
     "output_type": "execute_result"
    }
   ],
   "source": [
    "stopwords"
   ]
  },
  {
   "cell_type": "markdown",
   "id": "10137f98",
   "metadata": {},
   "source": [
    "### Analyzing Text for Sentiment\n",
    "\n",
    "##### Analyzing text using TextBlob to predict the sentiment of the text and categorise it as 'Positive', 'Negative' or 'Neutral'"
   ]
  },
  {
   "cell_type": "code",
   "execution_count": 25,
   "id": "ff663855",
   "metadata": {},
   "outputs": [
    {
     "data": {
      "text/html": [
       "<div>\n",
       "<style scoped>\n",
       "    .dataframe tbody tr th:only-of-type {\n",
       "        vertical-align: middle;\n",
       "    }\n",
       "\n",
       "    .dataframe tbody tr th {\n",
       "        vertical-align: top;\n",
       "    }\n",
       "\n",
       "    .dataframe thead th {\n",
       "        text-align: right;\n",
       "    }\n",
       "</style>\n",
       "<table border=\"1\" class=\"dataframe\">\n",
       "  <thead>\n",
       "    <tr style=\"text-align: right;\">\n",
       "      <th></th>\n",
       "      <th>created_at</th>\n",
       "      <th>text</th>\n",
       "      <th>favourites_count</th>\n",
       "      <th>retweet_count</th>\n",
       "      <th>sentiment</th>\n",
       "      <th>polarity</th>\n",
       "    </tr>\n",
       "  </thead>\n",
       "  <tbody>\n",
       "    <tr>\n",
       "      <th>0</th>\n",
       "      <td>0.366667</td>\n",
       "      <td>interesting read a four point strategy beyond ...</td>\n",
       "      <td>841</td>\n",
       "      <td>0</td>\n",
       "      <td>positive</td>\n",
       "      <td>0.333333</td>\n",
       "    </tr>\n",
       "    <tr>\n",
       "      <th>1</th>\n",
       "      <td>0.516667</td>\n",
       "      <td>china sneezed world freezed covid 19 chinesevi...</td>\n",
       "      <td>664</td>\n",
       "      <td>0</td>\n",
       "      <td>neutral</td>\n",
       "      <td>0</td>\n",
       "    </tr>\n",
       "    <tr>\n",
       "      <th>2</th>\n",
       "      <td>0.550000</td>\n",
       "      <td>the poor in india are starving the public is t...</td>\n",
       "      <td>5134</td>\n",
       "      <td>1</td>\n",
       "      <td>negative</td>\n",
       "      <td>-0.209375</td>\n",
       "    </tr>\n",
       "    <tr>\n",
       "      <th>3</th>\n",
       "      <td>0.666667</td>\n",
       "      <td>we are not stuck at home we are safe at home s...</td>\n",
       "      <td>230</td>\n",
       "      <td>0</td>\n",
       "      <td>positive</td>\n",
       "      <td>0.675</td>\n",
       "    </tr>\n",
       "    <tr>\n",
       "      <th>4</th>\n",
       "      <td>0.833333</td>\n",
       "      <td>i wish to contribute a little amount to our lo...</td>\n",
       "      <td>5</td>\n",
       "      <td>0</td>\n",
       "      <td>positive</td>\n",
       "      <td>0.304167</td>\n",
       "    </tr>\n",
       "  </tbody>\n",
       "</table>\n",
       "</div>"
      ],
      "text/plain": [
       "   created_at                                               text  \\\n",
       "0    0.366667  interesting read a four point strategy beyond ...   \n",
       "1    0.516667  china sneezed world freezed covid 19 chinesevi...   \n",
       "2    0.550000  the poor in india are starving the public is t...   \n",
       "3    0.666667  we are not stuck at home we are safe at home s...   \n",
       "4    0.833333  i wish to contribute a little amount to our lo...   \n",
       "\n",
       "   favourites_count  retweet_count sentiment  polarity  \n",
       "0               841              0  positive  0.333333  \n",
       "1               664              0   neutral         0  \n",
       "2              5134              1  negative -0.209375  \n",
       "3               230              0  positive     0.675  \n",
       "4                 5              0  positive  0.304167  "
      ]
     },
     "execution_count": 25,
     "metadata": {},
     "output_type": "execute_result"
    }
   ],
   "source": [
    "tweet['sentiment'] = ' '\n",
    "tweet['polarity'] = None\n",
    "for i,tweets in enumerate(tweet.text) :\n",
    "    blob = TextBlob(tweets)\n",
    "    tweet['polarity'][i] = blob.sentiment.polarity\n",
    "    if blob.sentiment.polarity > 0 :\n",
    "        tweet['sentiment'][i] = 'positive'\n",
    "    elif blob.sentiment.polarity < 0 :\n",
    "        tweet['sentiment'][i] = 'negative'\n",
    "    else :\n",
    "        tweet['sentiment'][i] = 'neutral'\n",
    "tweet.head()"
   ]
  },
  {
   "cell_type": "code",
   "execution_count": 26,
   "id": "aed03dd9",
   "metadata": {},
   "outputs": [
    {
     "name": "stdout",
     "output_type": "stream",
     "text": [
      "positive    875\n",
      "neutral     525\n",
      "negative    261\n",
      "Name: sentiment, dtype: int64\n"
     ]
    },
    {
     "data": {
      "image/png": "[encoded data removed]",
      "text/plain": [
       "<Figure size 432x288 with 1 Axes>"
      ]
     },
     "metadata": {
      "needs_background": "light"
     },
     "output_type": "display_data"
    }
   ],
   "source": [
    "print(tweet.sentiment.value_counts())\n",
    "sns.countplot(x='sentiment', data = tweet);"
   ]
  },
  {
   "cell_type": "markdown",
   "id": "86893e93",
   "metadata": {},
   "source": [
    "### Sentiment Distribution"
   ]
  },
  {
   "cell_type": "code",
   "execution_count": 27,
   "id": "90ad9f61",
   "metadata": {},
   "outputs": [
    {
     "data": {
      "image/png": "[encoded data removed]",
      "text/plain": [
       "<Figure size 720x432 with 1 Axes>"
      ]
     },
     "metadata": {
      "needs_background": "light"
     },
     "output_type": "display_data"
    }
   ],
   "source": [
    "plt.figure(figsize=(10,6))\n",
    "sns.distplot(tweet['polarity'], bins=30)\n",
    "plt.title('Sentiment Distribution',size = 15)\n",
    "plt.xlabel('Polarity',size = 15)\n",
    "plt.ylabel('Frequency',size = 15)\n",
    "plt.show();"
   ]
  },
  {
   "cell_type": "code",
   "execution_count": 29,
   "id": "b2a98c2e",
   "metadata": {},
   "outputs": [
    {
     "data": {
      "text/html": [
       "<div>\n",
       "<style scoped>\n",
       "    .dataframe tbody tr th:only-of-type {\n",
       "        vertical-align: middle;\n",
       "    }\n",
       "\n",
       "    .dataframe tbody tr th {\n",
       "        vertical-align: top;\n",
       "    }\n",
       "\n",
       "    .dataframe thead th {\n",
       "        text-align: right;\n",
       "    }\n",
       "</style>\n",
       "<table border=\"1\" class=\"dataframe\">\n",
       "  <thead>\n",
       "    <tr style=\"text-align: right;\">\n",
       "      <th></th>\n",
       "      <th>favourites_count</th>\n",
       "    </tr>\n",
       "    <tr>\n",
       "      <th>sentiment</th>\n",
       "      <th></th>\n",
       "    </tr>\n",
       "  </thead>\n",
       "  <tbody>\n",
       "    <tr>\n",
       "      <th>negative</th>\n",
       "      <td>2224842</td>\n",
       "    </tr>\n",
       "    <tr>\n",
       "      <th>neutral</th>\n",
       "      <td>3830762</td>\n",
       "    </tr>\n",
       "    <tr>\n",
       "      <th>positive</th>\n",
       "      <td>7396082</td>\n",
       "    </tr>\n",
       "  </tbody>\n",
       "</table>\n",
       "</div>"
      ],
      "text/plain": [
       "           favourites_count\n",
       "sentiment                  \n",
       "negative            2224842\n",
       "neutral             3830762\n",
       "positive            7396082"
      ]
     },
     "execution_count": 29,
     "metadata": {},
     "output_type": "execute_result"
    }
   ],
   "source": [
    "count = pd.DataFrame(tweet.groupby('sentiment')['favourites_count'].sum())\n",
    "count.head()"
   ]
  },
  {
   "cell_type": "markdown",
   "id": "98172ace",
   "metadata": {},
   "source": [
    "### Most frequently appearing words"
   ]
  },
  {
   "cell_type": "code",
   "execution_count": 30,
   "id": "fc477d35",
   "metadata": {},
   "outputs": [],
   "source": [
    "words = []\n",
    "words = [word for i in tweet.text for word in i.split()]"
   ]
  },
  {
   "cell_type": "code",
   "execution_count": 31,
   "id": "4e3ed4ea",
   "metadata": {},
   "outputs": [
    {
     "data": {
      "text/html": [
       "<div>\n",
       "<style scoped>\n",
       "    .dataframe tbody tr th:only-of-type {\n",
       "        vertical-align: middle;\n",
       "    }\n",
       "\n",
       "    .dataframe tbody tr th {\n",
       "        vertical-align: top;\n",
       "    }\n",
       "\n",
       "    .dataframe thead th {\n",
       "        text-align: right;\n",
       "    }\n",
       "</style>\n",
       "<table border=\"1\" class=\"dataframe\">\n",
       "  <thead>\n",
       "    <tr style=\"text-align: right;\">\n",
       "      <th></th>\n",
       "      <th>word</th>\n",
       "      <th>frequency</th>\n",
       "    </tr>\n",
       "  </thead>\n",
       "  <tbody>\n",
       "    <tr>\n",
       "      <th>0</th>\n",
       "      <td>the</td>\n",
       "      <td>1157</td>\n",
       "    </tr>\n",
       "    <tr>\n",
       "      <th>1</th>\n",
       "      <td>to</td>\n",
       "      <td>1021</td>\n",
       "    </tr>\n",
       "    <tr>\n",
       "      <th>2</th>\n",
       "      <td>covid</td>\n",
       "      <td>841</td>\n",
       "    </tr>\n",
       "    <tr>\n",
       "      <th>3</th>\n",
       "      <td>of</td>\n",
       "      <td>806</td>\n",
       "    </tr>\n",
       "    <tr>\n",
       "      <th>4</th>\n",
       "      <td>19</td>\n",
       "      <td>755</td>\n",
       "    </tr>\n",
       "  </tbody>\n",
       "</table>\n",
       "</div>"
      ],
      "text/plain": [
       "    word  frequency\n",
       "0    the       1157\n",
       "1     to       1021\n",
       "2  covid        841\n",
       "3     of        806\n",
       "4     19        755"
      ]
     },
     "execution_count": 31,
     "metadata": {},
     "output_type": "execute_result"
    }
   ],
   "source": [
    "freq = Counter(words).most_common(30)\n",
    "freq = pd.DataFrame(freq)\n",
    "freq.columns = ['word', 'frequency']\n",
    "freq.head()"
   ]
  },
  {
   "cell_type": "code",
   "execution_count": 32,
   "id": "c100f00d",
   "metadata": {},
   "outputs": [
    {
     "data": {
      "image/png": "[encoded data removed]",
      "text/plain": [
       "<Figure size 720x720 with 1 Axes>"
      ]
     },
     "metadata": {
      "needs_background": "light"
     },
     "output_type": "display_data"
    }
   ],
   "source": [
    "plt.figure(figsize = (10, 10))\n",
    "sns.barplot(y=\"word\", x=\"frequency\",data=freq);"
   ]
  },
  {
   "cell_type": "code",
   "execution_count": 33,
   "id": "66271cc0",
   "metadata": {},
   "outputs": [],
   "source": [
    "tweet.to_csv('tweet.csv',index=False)"
   ]
  },
  {
   "cell_type": "markdown",
   "id": "b7967cdf",
   "metadata": {},
   "source": [
    "### Conclusion\n",
    "##### We can conclude that mostly people have a positive and neutral sentiment towards the start of Lockdown-2."
   ]
  },
  {
   "cell_type": "code",
   "execution_count": null,
   "id": "d8edf6b1",
   "metadata": {},
   "outputs": [],
   "source": []
  },
  {
   "cell_type": "code",
   "execution_count": null,
   "id": "53963c6c",
   "metadata": {},
   "outputs": [],
   "source": []
  },
  {
   "cell_type": "code",
   "execution_count": null,
   "id": "fbabdced",
   "metadata": {},
   "outputs": [],
   "source": []
  },
  {
   "cell_type": "code",
   "execution_count": null,
   "id": "3ed3fa0b",
   "metadata": {},
   "outputs": [],
   "source": []
  },
  {
   "cell_type": "code",
   "execution_count": null,
   "id": "22cbbc66",
   "metadata": {},
   "outputs": [],
   "source": []
  },
  {
   "cell_type": "code",
   "execution_count": null,
   "id": "bc3fb391",
   "metadata": {},
   "outputs": [],
   "source": []
  },
  {
   "cell_type": "code",
   "execution_count": null,
   "id": "1346af30",
   "metadata": {},
   "outputs": [],
   "source": []
  }
 ],
 "metadata": {
  "kernelspec": {
   "display_name": "Python 3",
   "language": "python",
   "name": "python3"
  },
  "language_info": {
   "codemirror_mode": {
    "name": "ipython",
    "version": 3
   },
   "file_extension": ".py",
   "mimetype": "text/x-python",
   "name": "python",
   "nbconvert_exporter": "python",
   "pygments_lexer": "ipython3",
   "version": "3.8.8"
  }
 },
 "nbformat": 4,
 "nbformat_minor": 5
}
